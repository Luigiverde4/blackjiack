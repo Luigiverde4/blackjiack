{
 "cells": [
  {
   "cell_type": "markdown",
   "id": "0e2a046a",
   "metadata": {},
   "source": [
    "# Convertir Cards a Poker para que YOLO lo pueda entender"
   ]
  },
  {
   "cell_type": "code",
   "execution_count": 1,
   "id": "162f9b28",
   "metadata": {},
   "outputs": [],
   "source": [
    "import os\n",
    "import shutil\n",
    "from pathlib import Path\n",
    "\n",
    "from PIL import Image"
   ]
  },
  {
   "cell_type": "code",
   "execution_count": 2,
   "id": "a9424e7f",
   "metadata": {},
   "outputs": [],
   "source": [
    "# Configuración\n",
    "input_dir = \"poker\"  # Carpeta original con subcarpetas por clase\n",
    "output_dir = \"cards\"   # Carpeta destino con estructura YOLOcd \n",
    "sets = [\"train\", \"valid\"]  # Conjuntos disponibles"
   ]
  },
  {
   "cell_type": "code",
   "execution_count": 3,
   "id": "22825880",
   "metadata": {},
   "outputs": [],
   "source": [
    "# Obtener clases ordenadas\n",
    "class_names = sorted(os.listdir(os.path.join(input_dir, \"train\")))\n",
    "class_to_id = {name: idx for idx, name in enumerate(class_names)}"
   ]
  },
  {
   "cell_type": "code",
   "execution_count": null,
   "id": "257ded4c",
   "metadata": {},
   "outputs": [],
   "source": [
    "# Crear carpetas de salida\n",
    "for subset in sets:\n",
    "    os.makedirs(f\"{output_dir}/images/{subset}\", exist_ok=True)\n",
    "    os.makedirs(f\"{output_dir}/labels/{subset}\", exist_ok=True)\n",
    "\n",
    "    for class_name in class_names:\n",
    "        src_dir = os.path.join(input_dir, subset, class_name)\n",
    "        if not os.path.exists(src_dir):\n",
    "            continue\n",
    "\n",
    "        for file in os.listdir(src_dir):\n",
    "            if not file.lower().endswith((\".jpg\", \".jpeg\", \".png\")):\n",
    "                continue\n",
    "\n",
    "            img_path = os.path.join(src_dir, file)\n",
    "            dest_img_path = os.path.join(output_dir, \"images\", subset, f\"{class_name}_{file}\")\n",
    "            label_path = os.path.join(output_dir, \"labels\", subset, f\"{class_name}_{Path(file).stem}.txt\")\n",
    "\n",
    "            # Copiar imagen\n",
    "            shutil.copy(img_path, dest_img_path)\n",
    "\n",
    "            # Leer tamaño de imagen\n",
    "            with Image.open(img_path) as img:\n",
    "                w, h = img.size\n",
    "\n",
    "            # Anotación YOLO (caja que cubre toda la imagen)\n",
    "            # Formato: class_id center_x center_y width height (en proporción)\n",
    "            yolo_line = f\"{class_to_id[class_name]} 0.5 0.5 1.0 1.0\\n\"\n",
    "\n",
    "            with open(label_path, \"w\") as f:\n",
    "                f.write(yolo_line)\n",
    "\n",
    "print(\"✅ Conversión completada en formato YOLO.\")\n"
   ]
  }
 ],
 "metadata": {
  "kernelspec": {
   "display_name": "Imagen",
   "language": "python",
   "name": "python3"
  },
  "language_info": {
   "codemirror_mode": {
    "name": "ipython",
    "version": 3
   },
   "file_extension": ".py",
   "mimetype": "text/x-python",
   "name": "python",
   "nbconvert_exporter": "python",
   "pygments_lexer": "ipython3",
   "version": "3.9.21"
  }
 },
 "nbformat": 4,
 "nbformat_minor": 5
}
