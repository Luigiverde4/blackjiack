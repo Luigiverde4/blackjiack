{
 "cells": [
  {
   "cell_type": "code",
   "execution_count": null,
   "id": "f85175f1",
   "metadata": {},
   "outputs": [],
   "source": [
    "import torch\n",
    "from torch import nn\n",
    "from torchvision import datasets, transforms\n",
    "from torch.utils.data import DataLoader\n",
    "from torch.optim import Adam\n",
    "from torchvision.models import resnet18"
   ]
  },
  {
   "cell_type": "code",
   "execution_count": null,
   "id": "4fb83bd7",
   "metadata": {},
   "outputs": [],
   "source": [
    "def accuracy_fn(y_true, y_pred):\n",
    "    return (y_true == y_pred).sum().item() / len(y_pred) * 100\n"
   ]
  },
  {
   "cell_type": "code",
   "execution_count": null,
   "id": "987dc6f8",
   "metadata": {},
   "outputs": [],
   "source": [
    "torch.manual_seed(42)\n",
    "device = \"cuda\" if torch.cuda.is_available() else \"cpu\"\n",
    "print(f\"Usando dispositivo: {device}\")"
   ]
  },
  {
   "cell_type": "markdown",
   "id": "7f7f48a4",
   "metadata": {},
   "source": [
    "Transformaciones y datasets"
   ]
  },
  {
   "cell_type": "code",
   "execution_count": null,
   "id": "e2e58da1",
   "metadata": {},
   "outputs": [],
   "source": [
    "transform = transforms.Compose([\n",
    "    transforms.Resize((224, 224)),\n",
    "    transforms.ToTensor()\n",
    "])\n",
    "\n",
    "train_data = datasets.ImageFolder(root=\"poker/data/train\", transform=transform)\n",
    "test_data = datasets.ImageFolder(root=\"poker/data/val\", transform=transform)\n",
    "\n",
    "train_loader = DataLoader(train_data, batch_size=32, shuffle=True)\n",
    "test_loader = DataLoader(test_data, batch_size=32)\n"
   ]
  },
  {
   "cell_type": "markdown",
   "id": "0007849a",
   "metadata": {},
   "source": [
    "Modelo y config"
   ]
  },
  {
   "cell_type": "code",
   "execution_count": null,
   "id": "6d950d65",
   "metadata": {},
   "outputs": [],
   "source": [
    "model = resnet18(weights=\"DEFAULT\")\n",
    "for param in model.parameters():\n",
    "    param.requires_grad = False\n",
    "\n",
    "model.fc = nn.Linear(in_features=512, out_features=len(train_data.classes))\n",
    "model = model.to(device)\n",
    "\n",
    "loss_fn = nn.CrossEntropyLoss()\n",
    "optimizer = Adam(model.parameters(), lr=1e-3)\n"
   ]
  },
  {
   "cell_type": "markdown",
   "id": "f9444bed",
   "metadata": {},
   "source": [
    "Entrenamiento"
   ]
  },
  {
   "cell_type": "code",
   "execution_count": null,
   "id": "c6a57c8f",
   "metadata": {},
   "outputs": [],
   "source": [
    "epochs = 20\n",
    "for epoch in range(epochs):\n",
    "    model.train()\n",
    "    train_loss, train_acc = 0, 0\n",
    "\n",
    "    for X, y in train_loader:\n",
    "        X, y = X.to(device), y.to(device)\n",
    "        y_logits = model(X)\n",
    "        y_pred = torch.argmax(y_logits, dim=1)\n",
    "        loss = loss_fn(y_logits, y)\n",
    "        acc = accuracy_fn(y, y_pred)\n",
    "\n",
    "        optimizer.zero_grad()\n",
    "        loss.backward()\n",
    "        optimizer.step()\n",
    "\n",
    "        train_loss += loss.item()\n",
    "        train_acc += acc\n",
    "\n",
    "    model.eval()\n",
    "    test_loss, test_acc = 0, 0\n",
    "    with torch.inference_mode():\n",
    "        for X, y in test_loader:\n",
    "            X, y = X.to(device), y.to(device)\n",
    "            y_logits = model(X)\n",
    "            y_pred = torch.argmax(y_logits, dim=1)\n",
    "            test_loss += loss_fn(y_logits, y).item()\n",
    "            test_acc += accuracy_fn(y, y_pred)\n",
    "\n",
    "    print(f\"Epoch {epoch}: Train loss {train_loss/len(train_loader):.4f}, \"\n",
    "          f\"Train acc {train_acc/len(train_loader):.2f}%, \"\n",
    "          f\"Test loss {test_loss/len(test_loader):.4f}, \"\n",
    "          f\"Test acc {test_acc/len(test_loader):.2f}%\")\n"
   ]
  }
 ],
 "metadata": {
  "language_info": {
   "name": "python"
  }
 },
 "nbformat": 4,
 "nbformat_minor": 5
}
