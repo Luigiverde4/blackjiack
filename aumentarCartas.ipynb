{
 "cells": [
  {
   "cell_type": "code",
   "execution_count": 1,
   "id": "3ffabb39",
   "metadata": {},
   "outputs": [],
   "source": [
    "import os\n",
    "import cv2\n",
    "import random\n",
    "import numpy as np\n",
    "from glob import glob\n",
    "from pathlib import Path"
   ]
  },
  {
   "cell_type": "code",
   "execution_count": 2,
   "id": "0c0ec820",
   "metadata": {},
   "outputs": [],
   "source": [
    "# === Funciones ===\n",
    "def random_background(size):\n",
    "    base_color = np.random.randint(200, 256, size=3, dtype=np.uint8)  # aseguramos tipo\n",
    "    bg = np.ones((size, size, 3), dtype=np.uint8) * base_color\n",
    "    noise = np.random.randint(0, 30, (size, size, 3), dtype=np.uint8)\n",
    "    return cv2.add(bg, noise.astype(np.uint8))  # forzamos uint8 por si acaso\n",
    "\n",
    "\n",
    "def apply_augmentation(card_img):\n",
    "    scale = random.uniform(*card_scale_range)\n",
    "    angle = random.uniform(*rotation_range)\n",
    "    h, w = card_img.shape[:2]\n",
    "    new_w, new_h = int(w * scale), int(h * scale)\n",
    "    card_resized = cv2.resize(card_img, (new_w, new_h))\n",
    "    M = cv2.getRotationMatrix2D((new_w // 2, new_h // 2), angle, 1.0)\n",
    "    rotated = cv2.warpAffine(card_resized, M, (new_w, new_h), borderValue=(255,255,255))\n",
    "    if random.random() < blur_prob:\n",
    "        rotated = cv2.GaussianBlur(rotated, (5, 5), 0)\n",
    "    return rotated\n",
    "\n",
    "def paste_card(bg, card, y_zone):\n",
    "    ch, cw = card.shape[:2]\n",
    "    x = random.randint(0, img_size - cw)\n",
    "    y_range = (0, img_size // 2 - ch) if y_zone == \"DEALER\" else (img_size // 2, img_size - ch)\n",
    "    y = random.randint(*y_range)\n",
    "    region = bg[y:y+ch, x:x+cw]\n",
    "    mask = (card < 250).any(axis=2)\n",
    "    region[mask] = card[mask]\n",
    "    return bg, (x, y, x + cw, y + ch)\n",
    "\n",
    "def save_yolo_label(path, box, class_id):\n",
    "    x1, y1, x2, y2 = box\n",
    "    cx = (x1 + x2) / 2 / img_size\n",
    "    cy = (y1 + y2) / 2 / img_size\n",
    "    w = (x2 - x1) / img_size\n",
    "    h = (y2 - y1) / img_size\n",
    "    with open(path, \"w\") as f:\n",
    "        f.write(f\"{class_id} {cx:.6f} {cy:.6f} {w:.6f} {h:.6f}\\n\")\n"
   ]
  },
  {
   "cell_type": "code",
   "execution_count": 3,
   "id": "107a7269",
   "metadata": {},
   "outputs": [],
   "source": [
    "# === Configuracion ===\n",
    "input_root = \"poker/train\"                     # Origen: cartas individuales\n",
    "output_img_dir = \"cards/images/train\"          # Destino: imagenes YOLO\n",
    "output_lbl_dir = \"cards/labels/train\"          # Destino: labels YOLO\n",
    "img_size = 960\n",
    "images_per_card = 3                           # Generar 10 por cada original\n",
    "card_scale_range = (0.4, 0.6)                  # Tamaño relativo\n",
    "rotation_range = (-10, 10)                     # Rotacion leve\n",
    "blur_prob = 0.3                                # Probabilidad de aplicar desenfoque"
   ]
  },
  {
   "cell_type": "code",
   "execution_count": 4,
   "id": "ff291f09",
   "metadata": {},
   "outputs": [],
   "source": [
    "# Crear carpetas de salida si no existen\n",
    "os.makedirs(output_img_dir, exist_ok=True)\n",
    "os.makedirs(output_lbl_dir, exist_ok=True)"
   ]
  },
  {
   "cell_type": "code",
   "execution_count": 5,
   "id": "6919978f",
   "metadata": {},
   "outputs": [],
   "source": [
    "# Obtener clases\n",
    "clases = sorted(os.listdir(input_root))\n",
    "class_to_index = {name: i for i, name in enumerate(clases)}"
   ]
  },
  {
   "cell_type": "code",
   "execution_count": 6,
   "id": "fef49ece",
   "metadata": {},
   "outputs": [
    {
     "name": "stdout",
     "output_type": "stream",
     "text": [
      "🛠️     1 | Clase 1/53 → 'ace of clubs' [imagen 1/120 | aug 1/3]"
     ]
    },
    {
     "name": "stdout",
     "output_type": "stream",
     "text": [
      "🛠️ 22872 | Clase 53/53 → 'two of spades' [imagen 155/155 | aug 3/3]3]3]\n",
      "✅ Generadas 22872 imágenes augmentadas en formato YOLOv8.\n"
     ]
    }
   ],
   "source": [
    "# === Generar imagenes con progreso ===\n",
    "count = 0\n",
    "total_clases = len(clases)\n",
    "\n",
    "for class_idx, class_name in enumerate(clases):\n",
    "    class_path = os.path.join(input_root, class_name)\n",
    "    img_paths = glob(os.path.join(class_path, \"*.jpg\"))\n",
    "    class_id = class_to_index[class_name]\n",
    "\n",
    "    for img_idx, img_path in enumerate(img_paths):\n",
    "        original = cv2.imread(img_path)\n",
    "        if original is None:\n",
    "            continue\n",
    "\n",
    "        for i in range(images_per_card):\n",
    "            # Mostrar progreso\n",
    "            print(f\"\\r🛠️ {count+1:5d} | Clase {class_idx+1}/{total_clases} → '{class_name}' \"\n",
    "                  f\"[imagen {img_idx+1}/{len(img_paths)} | aug {i+1}/{images_per_card}]\", end='', flush=True)\n",
    "\n",
    "            # Proceso de augmentación\n",
    "            bg = random_background(img_size)\n",
    "            card_aug = apply_augmentation(original)\n",
    "            y_zone = \"DEALER\" if i < images_per_card // 2 else \"JUGADOR\"\n",
    "            bg_final, bbox = paste_card(bg.copy(), card_aug, y_zone)\n",
    "\n",
    "            fname = f\"aug_{class_name.replace(' ', '_')}_{count}.jpg\"\n",
    "            img_out = os.path.join(output_img_dir, fname)\n",
    "            lbl_out = os.path.join(output_lbl_dir, fname.replace(\".jpg\", \".txt\"))\n",
    "\n",
    "            cv2.imwrite(img_out, bg_final)\n",
    "            save_yolo_label(lbl_out, bbox, class_id)\n",
    "            count += 1\n",
    "\n",
    "print(f\"\\n✅ Generadas {count} imágenes augmentadas en formato YOLOv8.\")\n"
   ]
  }
 ],
 "metadata": {
  "kernelspec": {
   "display_name": "Imagen",
   "language": "python",
   "name": "python3"
  },
  "language_info": {
   "codemirror_mode": {
    "name": "ipython",
    "version": 3
   },
   "file_extension": ".py",
   "mimetype": "text/x-python",
   "name": "python",
   "nbconvert_exporter": "python",
   "pygments_lexer": "ipython3",
   "version": "3.9.21"
  }
 },
 "nbformat": 4,
 "nbformat_minor": 5
}
