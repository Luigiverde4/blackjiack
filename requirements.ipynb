{
 "cells": [
  {
   "cell_type": "markdown",
   "id": "13f45203",
   "metadata": {},
   "source": [
    "# Requirements para el proyecto"
   ]
  },
  {
   "cell_type": "markdown",
   "id": "e38beff0",
   "metadata": {},
   "source": [
    "Se necesita:\n",
    "* opencv-python\n",
    "* ultralytics\n",
    "* numpy"
   ]
  },
  {
   "cell_type": "code",
   "execution_count": null,
   "id": "5a3ec3ab",
   "metadata": {
    "vscode": {
     "languageId": "plaintext"
    }
   },
   "outputs": [],
   "source": [
    "!pip install opencv-python ultralytics numpy kaggle jupyter"
   ]
  },
  {
   "cell_type": "markdown",
   "id": "53d7d521",
   "metadata": {},
   "source": [
    "## Bibliografía\n",
    "\n",
    "Video con las bases de YoloV8, usado para ubicarnos con el modelo:\n",
    "- [Train Yolov8 object detection on a custom dataset | Step by step guide | Computer vision tutorial](https://www.youtube.com/watch?v=m9fH9OWn8YM)  \n",
    "\n",
    "Página wiki oficial de YOLO con todos los detalles que necesitábamos:\n",
    "- [Explorar Ultralytics YOLOv8](https://docs.ultralytics.com/es/models/yolov8/)"
   ]
  },
  {
   "cell_type": "markdown",
   "id": "0af6fa3a",
   "metadata": {},
   "source": []
  }
 ],
 "metadata": {
  "language_info": {
   "name": "python"
  }
 },
 "nbformat": 4,
 "nbformat_minor": 5
}
