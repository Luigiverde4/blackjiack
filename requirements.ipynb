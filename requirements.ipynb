{
 "cells": [
  {
   "cell_type": "markdown",
   "id": "13f45203",
   "metadata": {},
   "source": [
    "# Requirements para el proyecto"
   ]
  },
  {
   "cell_type": "markdown",
   "id": "d060d8da",
   "metadata": {},
   "source": [
    "## Christian Bertomeu Rodríguez\n",
    "## Jesús Navarro Prieto\n",
    "## Ricardo Román Martínez"
   ]
  },
  {
   "cell_type": "markdown",
   "id": "76b9f7a1",
   "metadata": {},
   "source": [
    "Se necesita:\n",
    "* opencv-python\n",
    "* ultralytics\n",
    "* numpy"
   ]
  },
  {
   "cell_type": "code",
   "execution_count": null,
   "id": "7414b167",
   "metadata": {},
   "outputs": [],
   "source": [
    "!pip install opencv-python ultralytics numpy kaggle jupyter"
   ]
  },
  {
   "cell_type": "markdown",
   "id": "a020980c",
   "metadata": {},
   "source": [
    "## Bibliografía\n",
    "\n",
    "Video con las bases de YoloV8, usado para ubicarnos con el modelo:\n",
    "- [Train Yolov8 object detection on a custom dataset | Step by step guide | Computer vision tutorial](https://www.youtube.com/watch?v=m9fH9OWn8YM)  \n",
    "\n",
    "Páginas consultadas sobre YOLO:\n",
    "- [Explorar Ultralytics YOLOv8](https://docs.ultralytics.com/es/models/yolov8/)\n",
    "\n",
    "- [Pagina explicando YOLO](https://www.datacamp.com/es/blog/yolo-object-detection-explained?dc_referrer=https%3A%2F%2Fwww.google.com%2F)\n",
    "\n",
    "Data augmentation\n",
    "- [Guía al data augmentation](https://www.datacamp.com/tutorial/complete-guide-data-augmentation)"
   ]
  },
  {
   "cell_type": "markdown",
   "id": "984d5f31",
   "metadata": {},
   "source": [
    "# README"
   ]
  },
  {
   "cell_type": "markdown",
   "id": "d2bffe2c",
   "metadata": {},
   "source": [
    "# 🃏 BlackjIAck\n",
    "\n",
    "Proyecto final de la asignatura **Imagen y Vídeo Digital**  \n",
    "*Autores: Christian Bertomeu Rodríguez, Jesús Navarro Prieto, Ricardo Román Martínez*\n",
    "\n",
    "---\n",
    "\n",
    "## 🎯 Objetivos\n",
    "\n",
    "1. Detectar cartas de poker en imágenes/vídeo.\n",
    "2. Reconocer jugadas en tiempo real en partidas de Blackjack.\n",
    "3. Recomendar la mejor jugada (`Pedir`, `Quedarse`, `Doblar`) según la estrategia óptima del juego.\n",
    "\n",
    "---\n",
    "\n",
    "## 📦 Dataset\n",
    "\n",
    "Dataset: [(Link)](https://www.kaggle.com/datasets/hosseinah1/poker-game-dataset)  \n",
    "- 7624 imágenes de entrenamiento  \n",
    "- 265 de validación  \n",
    "- 53 clases distintas  \n",
    "- Formato: JPG, 224x224x3  \n",
    "\n",
    "Para adaptarlo a YOLOv8, se usó un script personalizado de conversión al formato YOLO (imágenes + archivos `.txt` con etiquetas).\n",
    "\n",
    "---\n",
    "\n",
    "## 🧠 Modelo\n",
    "\n",
    "Se utilizó **YOLOv8s** por su buen balance entre velocidad y precisión.  \n",
    "Entrenamiento final:\n",
    "\n",
    "Train 33:\n",
    "- Modelo: `yolov8s.pt`\n",
    "- Resolución: `640x640`\n",
    "- Epochs: `20`\n",
    "- Batch size: `16`\n",
    "- Aumentos de datos\n",
    "\n",
    "---\n",
    "\n",
    "## 🔧 Data Augmentation\n",
    "\n",
    "Probamos a usar data augmentation mejorar la detección de cartas pequeñas o solapadas:\n",
    "- Escalado y rotación aleatoria de cartas.\n",
    "- Inserción sobre fondos con textura/ruido.\n",
    "- Distribución aleatoria en zonas de dealer y jugador.\n",
    "- Se generaron nuevos batches con este método.\n",
    "\n",
    "Finalmente no se utilizó debido a sus malos resultados\n",
    "\n",
    "---\n",
    "\n",
    "## ⚙️ Funcionamiento del sistema\n",
    "\n",
    "1. **Captura de vídeo** desde la webcam (OpenCV).\n",
    "2. **División en zonas**:\n",
    "   - Parte superior: cartas del dealer.\n",
    "   - Parte inferior: cartas del jugador.\n",
    "3. **Detección de contornos** con Canny y filtrado por área para localizar posibles cartas.\n",
    "4. **Zoom a cada ROI** y clasificación con YOLOv8.\n",
    "5. **Conversión de etiquetas a valores enteros** y paso a la lógica del Blackjack.\n",
    "6. **Determinación de jugada óptima**.\n",
    "\n",
    "---\n",
    "\n",
    "## 💡 Lógica de decisión\n",
    "\n",
    "El archivo `mejor_jugada.py` implementa una estrategia óptima en base a:\n",
    "- Tipos de mano: `dura`, `blanda` o `pares`.\n",
    "- Tabla de decisiones basada en el valor del dealer.\n",
    "\n",
    "Valores:\n",
    "- `P`: Pedir\n",
    "- `Q`: Quedarse\n",
    "- `D`: Doblar\n",
    "---\n",
    "\n",
    "## 📂 Descripción de archivos\n",
    "\n",
    "| Archivo                   | Descripción |\n",
    "|--------------------------|-------------|\n",
    "| `play.py`                | Script principal que lanza la detección de cartas en tiempo real desde la webcam, visualiza resultados y calcula la mejor jugada con interfaz gráfica. |\n",
    "| `eval.py`                | Evalúa el modelo YOLOv8 entrenado sobre el conjunto de validación. Muestra métricas como precisión, recall y mAP. |\n",
    "| `mejor_jugada.py`        | Contiene la lógica de decisión basada en estrategia óptima de Blackjack. Convierte las cartas detectadas a valores numéricos y devuelve la mejor acción recomendada. |\n",
    "| `train.ipynb`            | Cuaderno Jupyter utilizado para entrenar los modelos YOLOv8 con distintas configuraciones y datasets aumentados. |\n",
    "| `convert_to_yolo.ipynb`  | Cuaderno para convertir el dataset original de Kaggle al formato compatible con YOLOv8 (imágenes + etiquetas). |\n",
    "| `cards.yaml`             | Configuración del dataset: nombres de clases y rutas a los conjuntos de entrenamiento/validación. |\n",
    "| `kaggle.json`            | Credenciales necesarias para descargar el dataset desde Kaggle. |\n",
    "| `runs/`                  | Carpeta generada automáticamente por YOLO que contiene modelos entrenados y resultados de validación. |\n",
    "| `requirements.ipynb`                  | Notebook para descargar las librerias necesarias. Nombres, bibliografía y README incluidos |\n",
    "\n",
    "\n",
    "### 📚 Librerías necesarias (Python 3.8+)\n",
    "Para reproducir correctamente este proyecto, asegúrate de tener instalado lo siguiente:\n",
    "\n",
    "```bash\n",
    "pip install opencv-python ultralytics numpy\n",
    "```"
   ]
  }
 ],
 "metadata": {
  "kernelspec": {
   "display_name": "Imagen",
   "language": "python",
   "name": "python3"
  },
  "language_info": {
   "codemirror_mode": {
    "name": "ipython",
    "version": 3
   },
   "file_extension": ".py",
   "mimetype": "text/x-python",
   "name": "python",
   "nbconvert_exporter": "python",
   "pygments_lexer": "ipython3",
   "version": "3.9.21"
  }
 },
 "nbformat": 4,
 "nbformat_minor": 5
}
