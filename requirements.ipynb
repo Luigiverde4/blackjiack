{
 "cells": [
  {
   "cell_type": "markdown",
   "id": "13f45203",
   "metadata": {},
   "source": [
    "# Requirements para el proyecto"
   ]
  },
  {
   "cell_type": "markdown",
   "id": "e38beff0",
   "metadata": {},
   "source": [
    "Se necesita:\n",
    "* opencv-python\n",
    "* ultralytics\n",
    "* numpy"
   ]
  },
  {
   "cell_type": "code",
   "execution_count": null,
   "id": "5a3ec3ab",
   "metadata": {
    "vscode": {
     "languageId": "plaintext"
    }
   },
   "outputs": [],
   "source": [
    "!pip install opencv-python ultralytics numpy kaggle jupyter"
   ]
  }
 ],
 "metadata": {
  "language_info": {
   "name": "python"
  }
 },
 "nbformat": 4,
 "nbformat_minor": 5
}
