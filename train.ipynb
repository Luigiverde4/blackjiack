{
 "cells": [
  {
   "cell_type": "markdown",
   "id": "9baa4024",
   "metadata": {},
   "source": [
    "# Entrenar el modelo YOLO"
   ]
  },
  {
   "cell_type": "code",
   "execution_count": null,
   "id": "b55065d7",
   "metadata": {},
   "outputs": [],
   "source": [
    "from ultralytics import YOLO\n",
    "import torch"
   ]
  },
  {
   "cell_type": "code",
   "execution_count": null,
   "id": "e5099326",
   "metadata": {},
   "outputs": [],
   "source": [
    "# Verificar dispositivo\n",
    "device = \"cuda\" if torch.cuda.is_available() else \"cpu\"\n",
    "print(\"🧠 PyTorch:\", torch.__version__)\n",
    "print(\"🖥️ CUDA disponible:\", torch.cuda.is_available())\n",
    "\n",
    "if device == \"cuda\":\n",
    "    print(\"✅ GPU detectada:\", torch.cuda.get_device_name(0))\n",
    "    print(\"🧮 Memoria total:\", round(torch.cuda.get_device_properties(0).total_memory / 1e9, 2), \"GB\")\n",
    "\n",
    "print(f\"✅ Entrenando en: {device}\")"
   ]
  },
  {
   "cell_type": "code",
   "execution_count": null,
   "id": "9a33161b",
   "metadata": {},
   "outputs": [],
   "source": [
    "model = YOLO(\"yolov8n.pt\")  # o \"yolov8s.pt\""
   ]
  },
  {
   "cell_type": "code",
   "execution_count": null,
   "id": "4bb4a45d",
   "metadata": {},
   "outputs": [],
   "source": [
    "model.train(\n",
    "    data=\"cards.yaml\",\n",
    "    epochs=5,\n",
    "    imgsz=640,\n",
    "    device=0 if device == \"cuda\" else \"cpu\"\n",
    ")\n"
   ]
  }
 ],
 "metadata": {
  "language_info": {
   "name": "python"
  }
 },
 "nbformat": 4,
 "nbformat_minor": 5
}
