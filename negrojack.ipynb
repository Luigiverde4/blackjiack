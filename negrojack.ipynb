{
  "cells": [
    {
      "cell_type": "markdown",
      "metadata": {
        "id": "view-in-github",
        "colab_type": "text"
      },
      "source": [
        "<a href=\"https://colab.research.google.com/github/Luigiverde4/blackjiack/blob/main/negrojack.ipynb\" target=\"_parent\"><img src=\"https://colab.research.google.com/assets/colab-badge.svg\" alt=\"Open In Colab\"/></a>"
      ]
    },
    {
      "cell_type": "code",
      "source": [
        "from google.colab import files\n",
        "import os\n",
        "import zipfile\n",
        "import shutil\n",
        "from pathlib import Path\n",
        "from PIL import Image\n",
        "!pip install ultralytics"
      ],
      "metadata": {
        "id": "4SLshRsShC02"
      },
      "id": "4SLshRsShC02",
      "execution_count": null,
      "outputs": []
    },
    {
      "cell_type": "code",
      "execution_count": null,
      "id": "05007f2e",
      "metadata": {
        "id": "05007f2e"
      },
      "outputs": [],
      "source": [
        "files.upload()  # Te pedirá que subas el archivo kaggle.json\n",
        "\n",
        "# Crear carpeta .kaggle\n",
        "os.makedirs('/root/.kaggle', exist_ok=True)\n",
        "\n",
        "# Mover el archivo kaggle.json a la carpeta\n",
        "!mv kaggle.json /root/.kaggle/\n",
        "\n",
        "# Establecer permisos adecuados\n",
        "!chmod 600 /root/.kaggle/kaggle.json\n",
        "\n",
        "!kaggle datasets download -d gpiosenka/cards-image-datasetclassification\n",
        "\n",
        "with zipfile.ZipFile(\"cards-image-datasetclassification.zip\",\"r\") as zip_ref:\n",
        "    zip_ref.extractall(\"titanic_dataset\")"
      ]
    },
    {
      "cell_type": "code",
      "source": [
        "from google.colab import drive\n",
        "drive.mount('/content/drive')"
      ],
      "metadata": {
        "id": "7YZQvpUeocrv"
      },
      "id": "7YZQvpUeocrv",
      "execution_count": null,
      "outputs": []
    },
    {
      "cell_type": "code",
      "source": [
        "\n",
        "# Configuración\n",
        "input_dir = \"titanic_dataset\"  # Carpeta original con subcarpetas por clase\n",
        "output_dir = \"cards\"   # Carpeta destino con estructura YOLOcd\n",
        "sets = [\"train\", \"valid\"]  # Conjuntos disponibles\n",
        "\n",
        "# Obtener clases ordenadas\n",
        "class_names = sorted(os.listdir(os.path.join(input_dir, \"train\")))\n",
        "class_to_id = {name: idx for idx, name in enumerate(class_names)}\n",
        "\n",
        "# Crear carpetas de salida\n",
        "for subset in sets:\n",
        "    os.makedirs(f\"{output_dir}/images/{subset}\", exist_ok=True)\n",
        "    os.makedirs(f\"{output_dir}/labels/{subset}\", exist_ok=True)\n",
        "\n",
        "    for class_name in class_names:\n",
        "        src_dir = os.path.join(input_dir, subset, class_name)\n",
        "        if not os.path.exists(src_dir):\n",
        "            continue\n",
        "\n",
        "        for file in os.listdir(src_dir):\n",
        "            if not file.lower().endswith((\".jpg\", \".jpeg\", \".png\")):\n",
        "                continue\n",
        "\n",
        "            img_path = os.path.join(src_dir, file)\n",
        "            dest_img_path = os.path.join(output_dir, \"images\", subset, f\"{class_name}_{file}\")\n",
        "            label_path = os.path.join(output_dir, \"labels\", subset, f\"{class_name}_{Path(file).stem}.txt\")\n",
        "\n",
        "            # Copiar imagen\n",
        "            shutil.copy(img_path, dest_img_path)\n",
        "\n",
        "            # Leer tamaño de imagen\n",
        "            with Image.open(img_path) as img:\n",
        "                w, h = img.size\n",
        "\n",
        "            # Anotación YOLO (caja que cubre toda la imagen)\n",
        "            # Formato: class_id center_x center_y width height (en proporción)\n",
        "            yolo_line = f\"{class_to_id[class_name]} 0.5 0.5 1.0 1.0\\n\"\n",
        "\n",
        "            with open(label_path, \"w\") as f:\n",
        "                f.write(yolo_line)\n",
        "\n",
        "print(\"✅ Conversión completada en formato YOLO.\")"
      ],
      "metadata": {
        "id": "BHeNIEfQfh_z"
      },
      "id": "BHeNIEfQfh_z",
      "execution_count": null,
      "outputs": []
    },
    {
      "cell_type": "code",
      "source": [
        "os.listdir('cards')"
      ],
      "metadata": {
        "id": "cYubMKbBflS5"
      },
      "id": "cYubMKbBflS5",
      "execution_count": null,
      "outputs": []
    },
    {
      "cell_type": "code",
      "source": [
        "from ultralytics import YOLO\n",
        "\n",
        "model = YOLO(\"yolov8n.yaml\")\n",
        "files.upload() # Subir cards.yaml\n",
        "results = model.train(data=\"cards.yaml\",epochs=1)"
      ],
      "metadata": {
        "id": "BgpiNodkgohD"
      },
      "id": "BgpiNodkgohD",
      "execution_count": null,
      "outputs": []
    }
  ],
  "metadata": {
    "kernelspec": {
      "display_name": "Python 3",
      "name": "python3"
    },
    "language_info": {
      "codemirror_mode": {
        "name": "ipython",
        "version": 3
      },
      "file_extension": ".py",
      "mimetype": "text/x-python",
      "name": "python",
      "nbconvert_exporter": "python",
      "pygments_lexer": "ipython3",
      "version": "3.9.21"
    },
    "colab": {
      "provenance": [],
      "gpuType": "V28",
      "include_colab_link": true
    },
    "accelerator": "TPU"
  },
  "nbformat": 4,
  "nbformat_minor": 5
}